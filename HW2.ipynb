{
  "cells": [
    {
      "cell_type": "markdown",
      "id": "2b25e4cb-2853-4b71-82aa-7868469d3196",
      "metadata": {
        "id": "2b25e4cb-2853-4b71-82aa-7868469d3196"
      },
      "source": [
        "\n",
        "\n",
        "\n",
        "### Задача:\n",
        "Рассмотрим функцию $  f(x) = 3x^2 + 2x + 1 $ на интервале $[1, 4]$.\n",
        "Вычислите определённый интеграл функции $ f(x) $ на заданном интервале\n",
        "\n",
        "\n"
      ]
    },
    {
      "cell_type": "code",
      "source": [
        "import matplotlib.pyplot as plt\n",
        "import numpy as np"
      ],
      "metadata": {
        "id": "HU4uO-H-qC0J"
      },
      "id": "HU4uO-H-qC0J",
      "execution_count": 26,
      "outputs": []
    },
    {
      "cell_type": "code",
      "execution_count": 3,
      "id": "1788aaf2-8518-486b-a46b-b58247ca28df",
      "metadata": {
        "tags": [],
        "id": "1788aaf2-8518-486b-a46b-b58247ca28df"
      },
      "outputs": [],
      "source": [
        "import scipy.integrate"
      ]
    },
    {
      "cell_type": "code",
      "source": [
        "f = lambda x: 3*x**2 + 2*x + 1\n",
        "dots = [1, 4]\n",
        "\n",
        "integral = scipy.integrate.quad(f, dots[0], dots[1])\n",
        "print(f'Интеграл функции - {integral[0]}')"
      ],
      "metadata": {
        "colab": {
          "base_uri": "https://localhost:8080/"
        },
        "id": "7GMOz8Icb3wV",
        "outputId": "941b45a9-f94c-4091-911c-677b3e7424b9"
      },
      "id": "7GMOz8Icb3wV",
      "execution_count": 32,
      "outputs": [
        {
          "output_type": "stream",
          "name": "stdout",
          "text": [
            "Интеграл функции - 80.99999999999999\n"
          ]
        }
      ]
    },
    {
      "cell_type": "markdown",
      "id": "2cd7e7ed-20f9-4b39-8828-2f51b0bdbe62",
      "metadata": {
        "id": "2cd7e7ed-20f9-4b39-8828-2f51b0bdbe62"
      },
      "source": [
        "### Задача:\n",
        "Найдите градиент функции $x^2+y^2$ в точке $(1,2)$"
      ]
    },
    {
      "cell_type": "code",
      "execution_count": 33,
      "id": "41d6a6a0-72a3-46c3-90ae-ac4f1790a699",
      "metadata": {
        "id": "41d6a6a0-72a3-46c3-90ae-ac4f1790a699",
        "colab": {
          "base_uri": "https://localhost:8080/"
        },
        "outputId": "165ae31d-28ad-4994-f9d0-5da1bffb35b9"
      },
      "outputs": [
        {
          "output_type": "stream",
          "name": "stdout",
          "text": [
            "Градиент функции в точке [1. 2.] : [2. 4.]\n"
          ]
        }
      ],
      "source": [
        "from scipy.optimize import approx_fprime, minimize\n",
        "\n",
        "\n",
        "def func(x):\n",
        "    # Пример функции: f(x, y) = x^2 + y^2\n",
        "    return x[0]**2 + x[1]**2\n",
        "\n",
        "# Точка, в которой мы хотим найти градиент\n",
        "x = np.array([1.0, 2.0])\n",
        "\n",
        "# Вычисление градиента\n",
        "epsilon = np.sqrt(np.finfo(float).eps)\n",
        "grad = scipy.optimize.approx_fprime(x, func, epsilon)\n",
        "\n",
        "print(\"Градиент функции в точке\", x, \":\", grad)"
      ]
    },
    {
      "cell_type": "markdown",
      "id": "2244d4ae-fe41-421e-bcf4-166b695a62bc",
      "metadata": {
        "id": "2244d4ae-fe41-421e-bcf4-166b695a62bc"
      },
      "source": [
        "\n",
        "### Задача:\n",
        "Градиентный спуск — это итерационный метод оптимизации, который используется для поиска локального минимума дифференцируемой функции. Идея метода заключается в том, чтобы на каждом шаге двигаться в направлении наискорейшего убывания функции, которое определяется отрицательным градиентом функции в текущей точке.\n",
        "\n",
        "В математической записи, алгоритм градиентного спуска можно представить следующим образом. Пусть $ f: \\mathbb{R}^n \\rightarrow \\mathbb{R} $ — функция, которую мы хотим минимизировать. На каждом шаге $ k $ мы обновляем вектор параметров $ \\mathbf{x} $ следующим образом:\n",
        "\n",
        "$\n",
        "\\mathbf{x}_{k+1} = \\mathbf{x}_k - \\alpha \\nabla f(\\mathbf{x}_k),\n",
        "$\n",
        "\n",
        "где:\n",
        "- $ \\mathbf{x}_k $ — вектор параметров на шаге \\( k \\),\n",
        "- $ \\alpha $ — положительное число, называемое скоростью обучения,\n",
        "- $ \\nabla f(\\mathbf{x}_k) $ — градиент функции $ f $ в точке $ \\mathbf{x}_k $.\n",
        "\n",
        "Скорость обучения $ \\alpha $ контролирует размер шага, с которым алгоритм движется в направлении отрицательного градиента. Правильный выбор скорости обучения критически важен для сходимости алгоритма градиентного спуска к локальному минимуму.\n",
        "\n",
        "Этот процесс повторяется до тех пор, пока изменения в векторе параметров $ \\mathbf{x} $ или значение функции $ f $ не станут достаточно малыми, или пока не будет достигнуто максимальное количество итераций.\n",
        "\n",
        "Напишите функцию, которая по коэф. $a, b, c$ и начальной точке $x$ возвращает точку минимума у параболы"
      ]
    },
    {
      "cell_type": "code",
      "execution_count": 14,
      "id": "13ea87a1-8992-468e-97ed-6f59045c43b2",
      "metadata": {
        "tags": [],
        "id": "13ea87a1-8992-468e-97ed-6f59045c43b2"
      },
      "outputs": [],
      "source": [
        "def gradient_descent(a, b, c, x_start, learning_rate=0.1, max_iterations=1000, tolerance=1e-5):\n",
        "    x = x_start\n",
        "    history = [(x, a*x**2 + b*x + c)]\n",
        "\n",
        "    for _ in range(max_iterations):\n",
        "        gradient = 2*a*x + b\n",
        "        x_new = x - learning_rate * gradient\n",
        "        f_new = a*x_new**2 + b*x_new + c\n",
        "        history.append((x_new, f_new))\n",
        "\n",
        "        if abs(f_new - a*x**2 - b*x - c) < tolerance:\n",
        "            break\n",
        "\n",
        "        x = x_new\n",
        "\n",
        "    return history"
      ]
    },
    {
      "cell_type": "code",
      "source": [
        "a, b, c = 1, 1, 0\n",
        "x_start = -100\n",
        "history = gradient_descent(a, b, c, x_start)\n",
        "\n",
        "# визуализация\n",
        "x_history, y_history = zip(*history)\n",
        "x = np.linspace(-x_start - 1, x_start + 1, 400)\n",
        "y = a*x**2 + b*x + c\n",
        "\n",
        "plt.figure(figsize=(10, 6))\n",
        "plt.plot(x, y, label='f(x) = ax^2 + bx + c')\n",
        "plt.scatter(x_history, y_history, color='red')\n",
        "plt.plot(x_history, y_history, color='red', linestyle='--')\n",
        "plt.legend()\n",
        "plt.xlabel('x')\n",
        "plt.ylabel('f(x)')\n",
        "plt.title('Градиентный спуск на параболе')\n",
        "plt.grid(True)\n",
        "plt.show()"
      ],
      "metadata": {
        "colab": {
          "base_uri": "https://localhost:8080/",
          "height": 564
        },
        "id": "DEsJ5Vyn3Agz",
        "outputId": "b5236069-cee7-4d1a-d772-7a1e20b96960"
      },
      "id": "DEsJ5Vyn3Agz",
      "execution_count": 24,
      "outputs": [
        {
          "output_type": "display_data",
          "data": {
            "text/plain": [
              "<Figure size 1000x600 with 1 Axes>"
            ],
            "image/png": "[encoded data removed]"
          },
          "metadata": {}
        }
      ]
    },
    {
      "cell_type": "code",
      "source": [
        "print(f'Точка минимума параболы - {history[-1][0]}')"
      ],
      "metadata": {
        "colab": {
          "base_uri": "https://localhost:8080/"
        },
        "id": "0vCwAq9posOC",
        "outputId": "0e2b4a68-babd-468d-e16f-ae9b01997255"
      },
      "execution_count": 25,
      "outputs": [
        {
          "output_type": "stream",
          "name": "stdout",
          "text": [
            "Точка минимума параболы - -0.5034670689800841\n"
          ]
        }
      ],
      "id": "0vCwAq9posOC"
    },
    {
      "cell_type": "markdown",
      "id": "a1e17b54-0347-4bbd-8a4f-534562d6c47a",
      "metadata": {
        "id": "a1e17b54-0347-4bbd-8a4f-534562d6c47a"
      },
      "source": [
        "### Задача:\n",
        "Используйте функцию minimize из библиотеки SciPy для поиска минимума функции Розенброка и Химмельблау"
      ]
    },
    {
      "cell_type": "code",
      "execution_count": 18,
      "id": "9c312966-efa3-4159-88a1-265db9612489",
      "metadata": {
        "id": "9c312966-efa3-4159-88a1-265db9612489",
        "colab": {
          "base_uri": "https://localhost:8080/"
        },
        "outputId": "99d15214-300f-4c7c-f69c-7aa228563c0a"
      },
      "outputs": [
        {
          "output_type": "stream",
          "name": "stdout",
          "text": [
            "Минимум функции Розенброка:\n",
            "Найденное значение переменных: [0.99998167 0.99996251]\n",
            "Значение функции в найденной точке: 4.040655806765731e-10\n",
            "\n",
            "Минимум функции Химмельблау:\n",
            "Найденное значение переменных: [2.99999999 1.99999998]\n",
            "Значение функции в найденной точке: 9.445523975209378e-15\n"
          ]
        }
      ],
      "source": [
        "from scipy.optimize import minimize\n",
        "import numpy as np\n",
        "\n",
        "# Функция Розенброка\n",
        "def rosenbrock(x):\n",
        "    return (1 - x[0])**2 + 100 * (x[1] - x[0]**2)**2\n",
        "\n",
        "# Нахождение минимума функции Розенброка\n",
        "# импользуем метод без градиентного спуска\n",
        "result_rosenbrock = minimize(rosenbrock, [0.7, 1.2], method='nelder-mead')\n",
        "\n",
        "# Вывод результата\n",
        "print(\"Минимум функции Розенброка:\")\n",
        "print(\"Найденное значение переменных:\", result_rosenbrock.x)\n",
        "print(\"Значение функции в найденной точке:\", result_rosenbrock.fun)\n",
        "print()\n",
        "\n",
        "# Функция Химмельблау\n",
        "def himmelblau(x):\n",
        "    return (x[0]**2 + x[1] - 11)**2 + (x[0] + x[1]**2 - 7)**2\n",
        "\n",
        "# Нахождение минимума функции Химмельблау\n",
        "# используем градиентный метод\n",
        "result_himmelblau = minimize(himmelblau, [0.7, 1.2], method='BFGS')\n",
        "\n",
        "# Вывод результата\n",
        "print(\"Минимум функции Химмельблау:\")\n",
        "print(\"Найденное значение переменных:\", result_himmelblau.x)\n",
        "print(\"Значение функции в найденной точке:\", result_himmelblau.fun)"
      ]
    },
    {
      "cell_type": "code",
      "execution_count": null,
      "id": "71438da1-d01d-4b1a-a237-1b80cd108981",
      "metadata": {
        "id": "71438da1-d01d-4b1a-a237-1b80cd108981"
      },
      "outputs": [],
      "source": []
    }
  ],
  "metadata": {
    "kernelspec": {
      "display_name": "Python 3 (ipykernel)",
      "language": "python",
      "name": "python3"
    },
    "language_info": {
      "codemirror_mode": {
        "name": "ipython",
        "version": 3
      },
      "file_extension": ".py",
      "mimetype": "text/x-python",
      "name": "python",
      "nbconvert_exporter": "python",
      "pygments_lexer": "ipython3",
      "version": "3.11.5"
    },
    "colab": {
      "provenance": []
    }
  },
  "nbformat": 4,
  "nbformat_minor": 5
}